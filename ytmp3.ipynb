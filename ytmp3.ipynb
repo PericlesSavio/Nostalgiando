{
 "cells": [
  {
   "cell_type": "code",
   "execution_count": 35,
   "metadata": {},
   "outputs": [
    {
     "name": "stdout",
     "output_type": "stream",
     "text": [
      "MoviePy - Writing audio in wav/Gerudo Valley - The Legend of Zelda: Ocarina of Time Music Extended.wav\n"
     ]
    },
    {
     "name": "stderr",
     "output_type": "stream",
     "text": [
      "                                                                        "
     ]
    },
    {
     "name": "stdout",
     "output_type": "stream",
     "text": [
      "MoviePy - Done.\n",
      "Áudio salvo em: wav/Gerudo Valley - The Legend of Zelda: Ocarina of Time Music Extended.wav\n"
     ]
    },
    {
     "name": "stderr",
     "output_type": "stream",
     "text": [
      "\r"
     ]
    }
   ],
   "source": [
    "from pytube import YouTube\n",
    "from moviepy.editor import *\n",
    "import os\n",
    "\n",
    "def baixar_video_youtube(url, caminho_destino):\n",
    "    try:\n",
    "        # Baixar o vídeo do YouTube\n",
    "        yt = YouTube(url)\n",
    "        video = yt.streams.filter(only_audio=True).first()\n",
    "        caminho_video = video.download(output_path=caminho_destino)\n",
    "\n",
    "        # Extrair o áudio e salvar como WAV\n",
    "        clip = AudioFileClip(caminho_video)\n",
    "        caminho_audio_wav = caminho_destino + '/' + yt.title + '.wav'\n",
    "        clip.write_audiofile(caminho_audio_wav, codec='pcm_s16le')\n",
    "\n",
    "        os.remove(caminho_video)\n",
    "\n",
    "        print(f\"Áudio salvo em: {caminho_audio_wav}\")\n",
    "\n",
    "    except Exception as e:\n",
    "        print(f\"Ocorreu um erro: {e}\")\n",
    "\n",
    "# Exemplo de uso\n",
    "url = \"https://www.youtube.com/watch?v=n3xaiKpqF6c&pp=ygU1dGhlIGxlZ2VuZCBvZiB6ZWxkYSBvY2FyaW5hIG9mIHRpbWUgZ2VydWRvIHZhbGxleSBvc3Q%3D\"\n",
    "\n",
    "\n",
    "\n",
    "\n",
    "\n",
    "\n",
    "\n",
    "\n",
    "\n",
    "\n",
    "\n",
    "\n",
    "\n",
    "caminho_destino = \"wav\"\n",
    "baixar_video_youtube(url, caminho_destino)\n"
   ]
  },
  {
   "cell_type": "code",
   "execution_count": 11,
   "metadata": {},
   "outputs": [],
   "source": [
    "#lista\n",
    "#ff1: https://www.youtube.com/watch?v=heqf_SNFLkk&list=PL0flfo9y3ic9zHatZlO4--2IBpHaCtgih&index=2\n",
    "\n",
    "\n",
    "megaman\n",
    "tomb raider intro ps1\n"
   ]
  },
  {
   "cell_type": "code",
   "execution_count": 6,
   "metadata": {},
   "outputs": [
    {
     "name": "stdout",
     "output_type": "stream",
     "text": [
      "Áudio cortado e salvo com sucesso!\n"
     ]
    }
   ],
   "source": [
    "from pydub import AudioSegment\n",
    "\n",
    "# Carrega o arquivo WAV\n",
    "audio = AudioSegment.from_wav(\"./wav/1.wav\")\n",
    "\n",
    "# Define a duração em milissegundos (5 minutos = 5 * 60 * 1000)\n",
    "duracao_maxima = 5 * 60 * 1000\n",
    "\n",
    "# Corta o áudio até a duração máxima\n",
    "audio_cortado = audio[:duracao_maxima]\n",
    "\n",
    "# Salva o áudio cortado em um novo arquivo\n",
    "audio_cortado.export(\"./wav/arquivo_cortado.wav\", format=\"wav\")\n",
    "\n",
    "print(\"Áudio cortado e salvo com sucesso!\")\n"
   ]
  }
 ],
 "metadata": {
  "kernelspec": {
   "display_name": "Python 3",
   "language": "python",
   "name": "python3"
  },
  "language_info": {
   "codemirror_mode": {
    "name": "ipython",
    "version": 3
   },
   "file_extension": ".py",
   "mimetype": "text/x-python",
   "name": "python",
   "nbconvert_exporter": "python",
   "pygments_lexer": "ipython3",
   "version": "3.11.5"
  }
 },
 "nbformat": 4,
 "nbformat_minor": 2
}
