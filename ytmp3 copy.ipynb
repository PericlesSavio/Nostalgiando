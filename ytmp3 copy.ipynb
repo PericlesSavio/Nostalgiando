{
 "cells": [
  {
   "cell_type": "code",
   "execution_count": 1,
   "metadata": {},
   "outputs": [
    {
     "name": "stdout",
     "output_type": "stream",
     "text": [
      "MoviePy - Writing audio in mp3/Valis II (TurboGrafx CD) Soundtrack - Act 1.wav\n"
     ]
    },
    {
     "name": "stderr",
     "output_type": "stream",
     "text": [
      "                                                                      "
     ]
    },
    {
     "name": "stdout",
     "output_type": "stream",
     "text": [
      "MoviePy - Done.\n",
      "Áudio salvo em: mp3/Valis II (TurboGrafx CD) Soundtrack - Act 1.wav\n"
     ]
    },
    {
     "name": "stderr",
     "output_type": "stream",
     "text": [
      "\r"
     ]
    }
   ],
   "source": [
    "from pytube import YouTube\n",
    "from moviepy.editor import *\n",
    "\n",
    "def baixar_video_youtube(url, caminho_destino):\n",
    "    try:\n",
    "        # Baixar o vídeo do YouTube\n",
    "        yt = YouTube(url)\n",
    "        video = yt.streams.filter(only_audio=True).first()\n",
    "        caminho_video = video.download(output_path=caminho_destino)\n",
    "\n",
    "        # Extrair o áudio e salvar como WAV\n",
    "        clip = AudioFileClip(caminho_video)\n",
    "        caminho_audio_wav = caminho_destino + '/' + yt.title + '.wav'\n",
    "        clip.write_audiofile(caminho_audio_wav, codec='pcm_s16le')\n",
    "\n",
    "        print(f\"Áudio salvo em: {caminho_audio_wav}\")\n",
    "\n",
    "    except Exception as e:\n",
    "        print(f\"Ocorreu um erro: {e}\")\n",
    "\n",
    "# Exemplo de uso\n",
    "url = \"https://www.youtube.com/watch?v=fKxRxmJnBgk\"\n",
    "caminho_destino = \"mp3\"\n",
    "baixar_video_youtube(url, caminho_destino)\n"
   ]
  },
  {
   "cell_type": "code",
   "execution_count": 11,
   "metadata": {},
   "outputs": [],
   "source": [
    "#lista\n",
    "#valis 2: https://www.youtube.com/watch?v=fKxRxmJnBgk\n",
    "#ff1: https://www.youtube.com/watch?v=heqf_SNFLkk&list=PL0flfo9y3ic9zHatZlO4--2IBpHaCtgih&index=2\n",
    "#space harrier: https://www.youtube.com/watch?v=R-8Ijw8wIOU&list=PLREYF4RnDeQCw9IAcxKvj7zXYSq9hNzmY&index=1\n",
    "#Lord of the Sword: https://www.youtube.com/watch?v=seA8GIAC4HU\n",
    "#pressure cooker: https://www.youtube.com/watch?v=XPFGhjIrXDc"
   ]
  },
  {
   "cell_type": "code",
   "execution_count": null,
   "metadata": {},
   "outputs": [],
   "source": []
  }
 ],
 "metadata": {
  "kernelspec": {
   "display_name": "Python 3",
   "language": "python",
   "name": "python3"
  },
  "language_info": {
   "codemirror_mode": {
    "name": "ipython",
    "version": 3
   },
   "file_extension": ".py",
   "mimetype": "text/x-python",
   "name": "python",
   "nbconvert_exporter": "python",
   "pygments_lexer": "ipython3",
   "version": "3.11.5"
  }
 },
 "nbformat": 4,
 "nbformat_minor": 2
}
